{
 "cells": [
  {
   "cell_type": "markdown",
   "metadata": {},
   "source": [
    "****\n",
    "#  Decision Tree & Random Forest\n"
   ]
  },
  {
   "cell_type": "markdown",
   "metadata": {},
   "source": [
    "### Présentation\n",
    "> Ce notebook a pour vocation de montrer les commandes élémentaire en ce qui concerne les Decision Tree et Random Forest avec la bibliothèque Scikit Learn.     \n",
    "Quelques liens sont données en fin de notebook pour aller plus loin.\n",
    "\n",
    "> Ce notebook représente un TD de l'excellente       \n",
    "**Ekaterina Flin**, *ingénieur en informatique, groupe EpiMed, Institut pour l’Avancée des Biosciences (IAB), Université Grenoble Alpes (UGA)*\n",
    "Vidéo youtube :       \n",
    "https://www.youtube.com/watch?v=ydk1mUqwsVQ\n",
    "*****"
   ]
  },
  {
   "cell_type": "code",
   "execution_count": 1,
   "metadata": {},
   "outputs": [],
   "source": [
    "# Importation des librairies nécessaires\n",
    "\n",
    "import pandas as pd\n",
    "import matplotlib.pyplot as plt\n",
    "import numpy as np\n",
    "\n",
    "from sklearn.model_selection import train_test_split\n",
    "from sklearn import metrics\n",
    "\n",
    "from sklearn.tree import DecisionTreeClassifier, export_text, plot_tree\n",
    "from sklearn.ensemble import RandomForestClassifier"
   ]
  },
  {
   "cell_type": "code",
   "execution_count": 2,
   "metadata": {
    "scrolled": true
   },
   "outputs": [
    {
     "data": {
      "text/html": [
       "<div>\n",
       "<style scoped>\n",
       "    .dataframe tbody tr th:only-of-type {\n",
       "        vertical-align: middle;\n",
       "    }\n",
       "\n",
       "    .dataframe tbody tr th {\n",
       "        vertical-align: top;\n",
       "    }\n",
       "\n",
       "    .dataframe thead th {\n",
       "        text-align: right;\n",
       "    }\n",
       "</style>\n",
       "<table border=\"1\" class=\"dataframe\">\n",
       "  <thead>\n",
       "    <tr style=\"text-align: right;\">\n",
       "      <th></th>\n",
       "      <th>ADH1C</th>\n",
       "      <th>DHRS11</th>\n",
       "      <th>UGP2</th>\n",
       "      <th>SLC7A5</th>\n",
       "      <th>CTSS</th>\n",
       "      <th>DAO</th>\n",
       "      <th>NIBAN1</th>\n",
       "      <th>PRUNE2</th>\n",
       "      <th>FOXF2</th>\n",
       "      <th>TENT5C</th>\n",
       "      <th>...</th>\n",
       "      <th>BSPRY</th>\n",
       "      <th>CDHR2</th>\n",
       "      <th>ERRFI1</th>\n",
       "      <th>CLIC5</th>\n",
       "      <th>PLLP</th>\n",
       "      <th>GAL</th>\n",
       "      <th>CRYL1</th>\n",
       "      <th>YBX2</th>\n",
       "      <th>ANGPTL4</th>\n",
       "      <th>tissue_status</th>\n",
       "    </tr>\n",
       "    <tr>\n",
       "      <th>id_sample</th>\n",
       "      <th></th>\n",
       "      <th></th>\n",
       "      <th></th>\n",
       "      <th></th>\n",
       "      <th></th>\n",
       "      <th></th>\n",
       "      <th></th>\n",
       "      <th></th>\n",
       "      <th></th>\n",
       "      <th></th>\n",
       "      <th></th>\n",
       "      <th></th>\n",
       "      <th></th>\n",
       "      <th></th>\n",
       "      <th></th>\n",
       "      <th></th>\n",
       "      <th></th>\n",
       "      <th></th>\n",
       "      <th></th>\n",
       "      <th></th>\n",
       "      <th></th>\n",
       "    </tr>\n",
       "  </thead>\n",
       "  <tbody>\n",
       "    <tr>\n",
       "      <th>EPSM-COLON-0001</th>\n",
       "      <td>9.199944</td>\n",
       "      <td>6.090054</td>\n",
       "      <td>7.062512</td>\n",
       "      <td>3.864253</td>\n",
       "      <td>7.869368</td>\n",
       "      <td>8.465133</td>\n",
       "      <td>1.174665</td>\n",
       "      <td>0.975086</td>\n",
       "      <td>3.028995</td>\n",
       "      <td>6.350919</td>\n",
       "      <td>...</td>\n",
       "      <td>5.528371</td>\n",
       "      <td>3.500730</td>\n",
       "      <td>2.893760</td>\n",
       "      <td>5.130743</td>\n",
       "      <td>1.485110</td>\n",
       "      <td>1.830484</td>\n",
       "      <td>6.379933</td>\n",
       "      <td>3.919293</td>\n",
       "      <td>3.031413</td>\n",
       "      <td>normal</td>\n",
       "    </tr>\n",
       "    <tr>\n",
       "      <th>EPSM-COLON-0002</th>\n",
       "      <td>7.767618</td>\n",
       "      <td>6.027985</td>\n",
       "      <td>6.318818</td>\n",
       "      <td>3.069581</td>\n",
       "      <td>6.410334</td>\n",
       "      <td>8.159814</td>\n",
       "      <td>5.959414</td>\n",
       "      <td>1.625518</td>\n",
       "      <td>2.984629</td>\n",
       "      <td>4.686086</td>\n",
       "      <td>...</td>\n",
       "      <td>5.671788</td>\n",
       "      <td>4.658790</td>\n",
       "      <td>4.715374</td>\n",
       "      <td>5.438104</td>\n",
       "      <td>2.131466</td>\n",
       "      <td>2.097157</td>\n",
       "      <td>6.863173</td>\n",
       "      <td>0.322829</td>\n",
       "      <td>3.978531</td>\n",
       "      <td>normal</td>\n",
       "    </tr>\n",
       "    <tr>\n",
       "      <th>EPSM-COLON-0003</th>\n",
       "      <td>7.918904</td>\n",
       "      <td>5.885948</td>\n",
       "      <td>6.917742</td>\n",
       "      <td>3.188257</td>\n",
       "      <td>7.915549</td>\n",
       "      <td>8.004194</td>\n",
       "      <td>1.560386</td>\n",
       "      <td>2.379909</td>\n",
       "      <td>2.929762</td>\n",
       "      <td>4.281126</td>\n",
       "      <td>...</td>\n",
       "      <td>4.596079</td>\n",
       "      <td>5.649376</td>\n",
       "      <td>4.047899</td>\n",
       "      <td>6.580938</td>\n",
       "      <td>1.447209</td>\n",
       "      <td>3.890943</td>\n",
       "      <td>6.209704</td>\n",
       "      <td>3.274407</td>\n",
       "      <td>3.714491</td>\n",
       "      <td>normal</td>\n",
       "    </tr>\n",
       "    <tr>\n",
       "      <th>EPSM-COLON-0004</th>\n",
       "      <td>9.053553</td>\n",
       "      <td>6.027985</td>\n",
       "      <td>7.081085</td>\n",
       "      <td>2.357523</td>\n",
       "      <td>5.657726</td>\n",
       "      <td>8.004194</td>\n",
       "      <td>3.548988</td>\n",
       "      <td>3.260031</td>\n",
       "      <td>3.313829</td>\n",
       "      <td>4.821072</td>\n",
       "      <td>...</td>\n",
       "      <td>4.135061</td>\n",
       "      <td>5.437107</td>\n",
       "      <td>4.537381</td>\n",
       "      <td>4.615263</td>\n",
       "      <td>1.004454</td>\n",
       "      <td>1.840902</td>\n",
       "      <td>6.774063</td>\n",
       "      <td>3.320525</td>\n",
       "      <td>3.080796</td>\n",
       "      <td>normal</td>\n",
       "    </tr>\n",
       "    <tr>\n",
       "      <th>EPSM-COLON-0005</th>\n",
       "      <td>6.027822</td>\n",
       "      <td>5.791257</td>\n",
       "      <td>5.937685</td>\n",
       "      <td>4.137667</td>\n",
       "      <td>5.818999</td>\n",
       "      <td>8.056067</td>\n",
       "      <td>3.307945</td>\n",
       "      <td>5.208874</td>\n",
       "      <td>4.191695</td>\n",
       "      <td>5.181036</td>\n",
       "      <td>...</td>\n",
       "      <td>3.674043</td>\n",
       "      <td>6.286182</td>\n",
       "      <td>4.715374</td>\n",
       "      <td>4.432410</td>\n",
       "      <td>0.159195</td>\n",
       "      <td>3.506561</td>\n",
       "      <td>6.150297</td>\n",
       "      <td>0.461184</td>\n",
       "      <td>5.140305</td>\n",
       "      <td>normal</td>\n",
       "    </tr>\n",
       "    <tr>\n",
       "      <th>...</th>\n",
       "      <td>...</td>\n",
       "      <td>...</td>\n",
       "      <td>...</td>\n",
       "      <td>...</td>\n",
       "      <td>...</td>\n",
       "      <td>...</td>\n",
       "      <td>...</td>\n",
       "      <td>...</td>\n",
       "      <td>...</td>\n",
       "      <td>...</td>\n",
       "      <td>...</td>\n",
       "      <td>...</td>\n",
       "      <td>...</td>\n",
       "      <td>...</td>\n",
       "      <td>...</td>\n",
       "      <td>...</td>\n",
       "      <td>...</td>\n",
       "      <td>...</td>\n",
       "      <td>...</td>\n",
       "      <td>...</td>\n",
       "      <td>...</td>\n",
       "    </tr>\n",
       "    <tr>\n",
       "      <th>EPSM-COLON-0800</th>\n",
       "      <td>6.019963</td>\n",
       "      <td>3.089364</td>\n",
       "      <td>4.393486</td>\n",
       "      <td>5.947781</td>\n",
       "      <td>7.124598</td>\n",
       "      <td>6.476207</td>\n",
       "      <td>3.511464</td>\n",
       "      <td>3.360521</td>\n",
       "      <td>2.954865</td>\n",
       "      <td>1.708999</td>\n",
       "      <td>...</td>\n",
       "      <td>4.643061</td>\n",
       "      <td>4.632634</td>\n",
       "      <td>4.670141</td>\n",
       "      <td>4.571678</td>\n",
       "      <td>2.864645</td>\n",
       "      <td>2.336317</td>\n",
       "      <td>6.923562</td>\n",
       "      <td>2.710594</td>\n",
       "      <td>2.507989</td>\n",
       "      <td>tumoral</td>\n",
       "    </tr>\n",
       "    <tr>\n",
       "      <th>EPSM-COLON-0801</th>\n",
       "      <td>3.691606</td>\n",
       "      <td>2.118165</td>\n",
       "      <td>4.794787</td>\n",
       "      <td>4.746829</td>\n",
       "      <td>5.493405</td>\n",
       "      <td>5.127365</td>\n",
       "      <td>3.516129</td>\n",
       "      <td>1.701237</td>\n",
       "      <td>2.771962</td>\n",
       "      <td>2.215480</td>\n",
       "      <td>...</td>\n",
       "      <td>4.695878</td>\n",
       "      <td>1.800088</td>\n",
       "      <td>7.647285</td>\n",
       "      <td>1.340236</td>\n",
       "      <td>3.063140</td>\n",
       "      <td>3.410137</td>\n",
       "      <td>3.856952</td>\n",
       "      <td>1.491817</td>\n",
       "      <td>6.493643</td>\n",
       "      <td>tumoral</td>\n",
       "    </tr>\n",
       "    <tr>\n",
       "      <th>EPSM-COLON-0802</th>\n",
       "      <td>3.035242</td>\n",
       "      <td>2.495383</td>\n",
       "      <td>4.438451</td>\n",
       "      <td>5.916828</td>\n",
       "      <td>7.155135</td>\n",
       "      <td>5.556266</td>\n",
       "      <td>1.192243</td>\n",
       "      <td>1.169104</td>\n",
       "      <td>1.038835</td>\n",
       "      <td>2.833854</td>\n",
       "      <td>...</td>\n",
       "      <td>4.886197</td>\n",
       "      <td>3.624820</td>\n",
       "      <td>3.912746</td>\n",
       "      <td>2.806374</td>\n",
       "      <td>3.170815</td>\n",
       "      <td>0.775487</td>\n",
       "      <td>4.952383</td>\n",
       "      <td>1.960087</td>\n",
       "      <td>2.809510</td>\n",
       "      <td>tumoral</td>\n",
       "    </tr>\n",
       "    <tr>\n",
       "      <th>EPSM-COLON-0803</th>\n",
       "      <td>3.021057</td>\n",
       "      <td>3.581193</td>\n",
       "      <td>4.822947</td>\n",
       "      <td>5.694946</td>\n",
       "      <td>6.789079</td>\n",
       "      <td>6.570513</td>\n",
       "      <td>1.404105</td>\n",
       "      <td>3.390414</td>\n",
       "      <td>2.653714</td>\n",
       "      <td>3.190606</td>\n",
       "      <td>...</td>\n",
       "      <td>4.980576</td>\n",
       "      <td>4.088197</td>\n",
       "      <td>3.945064</td>\n",
       "      <td>3.426452</td>\n",
       "      <td>1.526074</td>\n",
       "      <td>4.175287</td>\n",
       "      <td>8.242634</td>\n",
       "      <td>2.225967</td>\n",
       "      <td>1.842766</td>\n",
       "      <td>tumoral</td>\n",
       "    </tr>\n",
       "    <tr>\n",
       "      <th>EPSM-COLON-0804</th>\n",
       "      <td>0.957801</td>\n",
       "      <td>1.800005</td>\n",
       "      <td>4.985909</td>\n",
       "      <td>3.844568</td>\n",
       "      <td>6.560904</td>\n",
       "      <td>2.165170</td>\n",
       "      <td>4.240985</td>\n",
       "      <td>4.674793</td>\n",
       "      <td>2.339424</td>\n",
       "      <td>2.909521</td>\n",
       "      <td>...</td>\n",
       "      <td>4.428564</td>\n",
       "      <td>1.073753</td>\n",
       "      <td>6.319233</td>\n",
       "      <td>3.803260</td>\n",
       "      <td>1.522304</td>\n",
       "      <td>1.469871</td>\n",
       "      <td>3.579904</td>\n",
       "      <td>1.549248</td>\n",
       "      <td>1.379948</td>\n",
       "      <td>tumoral</td>\n",
       "    </tr>\n",
       "  </tbody>\n",
       "</table>\n",
       "<p>804 rows × 61 columns</p>\n",
       "</div>"
      ],
      "text/plain": [
       "                    ADH1C    DHRS11      UGP2    SLC7A5      CTSS       DAO  \\\n",
       "id_sample                                                                     \n",
       "EPSM-COLON-0001  9.199944  6.090054  7.062512  3.864253  7.869368  8.465133   \n",
       "EPSM-COLON-0002  7.767618  6.027985  6.318818  3.069581  6.410334  8.159814   \n",
       "EPSM-COLON-0003  7.918904  5.885948  6.917742  3.188257  7.915549  8.004194   \n",
       "EPSM-COLON-0004  9.053553  6.027985  7.081085  2.357523  5.657726  8.004194   \n",
       "EPSM-COLON-0005  6.027822  5.791257  5.937685  4.137667  5.818999  8.056067   \n",
       "...                   ...       ...       ...       ...       ...       ...   \n",
       "EPSM-COLON-0800  6.019963  3.089364  4.393486  5.947781  7.124598  6.476207   \n",
       "EPSM-COLON-0801  3.691606  2.118165  4.794787  4.746829  5.493405  5.127365   \n",
       "EPSM-COLON-0802  3.035242  2.495383  4.438451  5.916828  7.155135  5.556266   \n",
       "EPSM-COLON-0803  3.021057  3.581193  4.822947  5.694946  6.789079  6.570513   \n",
       "EPSM-COLON-0804  0.957801  1.800005  4.985909  3.844568  6.560904  2.165170   \n",
       "\n",
       "                   NIBAN1    PRUNE2     FOXF2    TENT5C  ...     BSPRY  \\\n",
       "id_sample                                                ...             \n",
       "EPSM-COLON-0001  1.174665  0.975086  3.028995  6.350919  ...  5.528371   \n",
       "EPSM-COLON-0002  5.959414  1.625518  2.984629  4.686086  ...  5.671788   \n",
       "EPSM-COLON-0003  1.560386  2.379909  2.929762  4.281126  ...  4.596079   \n",
       "EPSM-COLON-0004  3.548988  3.260031  3.313829  4.821072  ...  4.135061   \n",
       "EPSM-COLON-0005  3.307945  5.208874  4.191695  5.181036  ...  3.674043   \n",
       "...                   ...       ...       ...       ...  ...       ...   \n",
       "EPSM-COLON-0800  3.511464  3.360521  2.954865  1.708999  ...  4.643061   \n",
       "EPSM-COLON-0801  3.516129  1.701237  2.771962  2.215480  ...  4.695878   \n",
       "EPSM-COLON-0802  1.192243  1.169104  1.038835  2.833854  ...  4.886197   \n",
       "EPSM-COLON-0803  1.404105  3.390414  2.653714  3.190606  ...  4.980576   \n",
       "EPSM-COLON-0804  4.240985  4.674793  2.339424  2.909521  ...  4.428564   \n",
       "\n",
       "                    CDHR2    ERRFI1     CLIC5      PLLP       GAL     CRYL1  \\\n",
       "id_sample                                                                     \n",
       "EPSM-COLON-0001  3.500730  2.893760  5.130743  1.485110  1.830484  6.379933   \n",
       "EPSM-COLON-0002  4.658790  4.715374  5.438104  2.131466  2.097157  6.863173   \n",
       "EPSM-COLON-0003  5.649376  4.047899  6.580938  1.447209  3.890943  6.209704   \n",
       "EPSM-COLON-0004  5.437107  4.537381  4.615263  1.004454  1.840902  6.774063   \n",
       "EPSM-COLON-0005  6.286182  4.715374  4.432410  0.159195  3.506561  6.150297   \n",
       "...                   ...       ...       ...       ...       ...       ...   \n",
       "EPSM-COLON-0800  4.632634  4.670141  4.571678  2.864645  2.336317  6.923562   \n",
       "EPSM-COLON-0801  1.800088  7.647285  1.340236  3.063140  3.410137  3.856952   \n",
       "EPSM-COLON-0802  3.624820  3.912746  2.806374  3.170815  0.775487  4.952383   \n",
       "EPSM-COLON-0803  4.088197  3.945064  3.426452  1.526074  4.175287  8.242634   \n",
       "EPSM-COLON-0804  1.073753  6.319233  3.803260  1.522304  1.469871  3.579904   \n",
       "\n",
       "                     YBX2   ANGPTL4  tissue_status  \n",
       "id_sample                                           \n",
       "EPSM-COLON-0001  3.919293  3.031413         normal  \n",
       "EPSM-COLON-0002  0.322829  3.978531         normal  \n",
       "EPSM-COLON-0003  3.274407  3.714491         normal  \n",
       "EPSM-COLON-0004  3.320525  3.080796         normal  \n",
       "EPSM-COLON-0005  0.461184  5.140305         normal  \n",
       "...                   ...       ...            ...  \n",
       "EPSM-COLON-0800  2.710594  2.507989        tumoral  \n",
       "EPSM-COLON-0801  1.491817  6.493643        tumoral  \n",
       "EPSM-COLON-0802  1.960087  2.809510        tumoral  \n",
       "EPSM-COLON-0803  2.225967  1.842766        tumoral  \n",
       "EPSM-COLON-0804  1.549248  1.379948        tumoral  \n",
       "\n",
       "[804 rows x 61 columns]"
      ]
     },
     "execution_count": 2,
     "metadata": {},
     "output_type": "execute_result"
    }
   ],
   "source": [
    "# Importation des données\n",
    "df = pd.read_csv(\"colon_cancer.csv\",sep=\";\",index_col = \"id_sample\")\n",
    "df"
   ]
  },
  {
   "cell_type": "code",
   "execution_count": 3,
   "metadata": {
    "scrolled": true
   },
   "outputs": [
    {
     "name": "stdout",
     "output_type": "stream",
     "text": [
      "<class 'pandas.core.frame.DataFrame'>\n",
      "Index: 804 entries, EPSM-COLON-0001 to EPSM-COLON-0804\n",
      "Data columns (total 61 columns):\n",
      " #   Column         Non-Null Count  Dtype  \n",
      "---  ------         --------------  -----  \n",
      " 0   ADH1C          804 non-null    float64\n",
      " 1   DHRS11         804 non-null    float64\n",
      " 2   UGP2           804 non-null    float64\n",
      " 3   SLC7A5         804 non-null    float64\n",
      " 4   CTSS           804 non-null    float64\n",
      " 5   DAO            804 non-null    float64\n",
      " 6   NIBAN1         804 non-null    float64\n",
      " 7   PRUNE2         804 non-null    float64\n",
      " 8   FOXF2          804 non-null    float64\n",
      " 9   TENT5C         804 non-null    float64\n",
      " 10  KLF10          804 non-null    float64\n",
      " 11  FABP1          804 non-null    float64\n",
      " 12  RPSAP19        804 non-null    float64\n",
      " 13  NCAPH          804 non-null    float64\n",
      " 14  TPM1           804 non-null    float64\n",
      " 15  PLA2G12B       804 non-null    float64\n",
      " 16  PLAAT4         804 non-null    float64\n",
      " 17  IGLV8-61       804 non-null    float64\n",
      " 18  GSS            804 non-null    float64\n",
      " 19  L1TD1          804 non-null    float64\n",
      " 20  RNF186         804 non-null    float64\n",
      " 21  HES2           804 non-null    float64\n",
      " 22  MXRA8          804 non-null    float64\n",
      " 23  SOX18          804 non-null    float64\n",
      " 24  NDFIP2         804 non-null    float64\n",
      " 25  SIAE           804 non-null    float64\n",
      " 26  NEURL1B        804 non-null    float64\n",
      " 27  DDIT4          804 non-null    float64\n",
      " 28  TRPM4          804 non-null    float64\n",
      " 29  RETREG1        804 non-null    float64\n",
      " 30  OTULINL        804 non-null    float64\n",
      " 31  CPVL           804 non-null    float64\n",
      " 32  SAMD9          804 non-null    float64\n",
      " 33  ANKRD40CL      804 non-null    float64\n",
      " 34  EPN3           804 non-null    float64\n",
      " 35  CRYBG2         804 non-null    float64\n",
      " 36  GIPC2          804 non-null    float64\n",
      " 37  P3H2           804 non-null    float64\n",
      " 38  STEAP3         804 non-null    float64\n",
      " 39  THNSL2         804 non-null    float64\n",
      " 40  TRAPPC14       804 non-null    float64\n",
      " 41  RHBDL2         804 non-null    float64\n",
      " 42  RPP25          804 non-null    float64\n",
      " 43  SEMA4C         804 non-null    float64\n",
      " 44  RNF43          804 non-null    float64\n",
      " 45  EPS8L1         804 non-null    float64\n",
      " 46  TOR4A          804 non-null    float64\n",
      " 47  PAQR5          804 non-null    float64\n",
      " 48  SIDT1          804 non-null    float64\n",
      " 49  ESRP1          804 non-null    float64\n",
      " 50  SYTL2          804 non-null    float64\n",
      " 51  BSPRY          804 non-null    float64\n",
      " 52  CDHR2          804 non-null    float64\n",
      " 53  ERRFI1         804 non-null    float64\n",
      " 54  CLIC5          804 non-null    float64\n",
      " 55  PLLP           804 non-null    float64\n",
      " 56  GAL            804 non-null    float64\n",
      " 57  CRYL1          804 non-null    float64\n",
      " 58  YBX2           804 non-null    float64\n",
      " 59  ANGPTL4        804 non-null    float64\n",
      " 60  tissue_status  804 non-null    object \n",
      "dtypes: float64(60), object(1)\n",
      "memory usage: 389.4+ KB\n"
     ]
    }
   ],
   "source": [
    "df.info()"
   ]
  },
  {
   "cell_type": "code",
   "execution_count": 4,
   "metadata": {},
   "outputs": [],
   "source": [
    "# Fonction permettant de calculer la métriques accuracy_score (le % d'élément bien prédit)\n",
    "# Et le classifier => Calculer sur les données d'apprentissage, permettant d'obtenir les prédictions\n",
    "# Pour que cette fonction soit opérationnelle, le classifier doit être déterminé en amont\n",
    "\n",
    "def calculate_accuracy(classifier, X_train, X_test, y_train, y_test):\n",
    "    classifier.fit(X_train, y_train)\n",
    "    y_pred_train = classifier.predict(X_train)\n",
    "    y_pred_test = classifier.predict(X_test)\n",
    "    accuracy_train = metrics.accuracy_score(y_train, y_pred_train)\n",
    "    accuracy_test = metrics.accuracy_score(y_test, y_pred_test)\n",
    "    print('Train accuracy:', '{:.3f}'.format(accuracy_train), 'Test accuracy:', '{:.3f}'.format(accuracy_test))\n",
    "    return accuracy_train, accuracy_test, classifier"
   ]
  },
  {
   "cell_type": "code",
   "execution_count": 5,
   "metadata": {},
   "outputs": [],
   "source": [
    "# Permet de figer le noyau alétoire pour avoir les mêmes données que l'exercice\n",
    "random_state = 42"
   ]
  },
  {
   "cell_type": "markdown",
   "metadata": {},
   "source": [
    "## Construction des matrices X et Y"
   ]
  },
  {
   "cell_type": "code",
   "execution_count": 6,
   "metadata": {},
   "outputs": [],
   "source": [
    "Y = df[\"tissue_status\"]\n",
    "X = df.drop(columns=[\"tissue_status\"])"
   ]
  },
  {
   "cell_type": "markdown",
   "metadata": {},
   "source": [
    "## Construction d'un dataset d'entraînement de 3/4 et un dataset de test de 1/4"
   ]
  },
  {
   "cell_type": "code",
   "execution_count": 7,
   "metadata": {},
   "outputs": [],
   "source": [
    "X_train, X_test, y_train, y_test = train_test_split(X, Y, test_size=0.25, random_state = random_state,stratify = Y)"
   ]
  },
  {
   "cell_type": "code",
   "execution_count": 8,
   "metadata": {},
   "outputs": [
    {
     "name": "stdout",
     "output_type": "stream",
     "text": [
      "X_train : (603, 60)  X_test : (201, 60)\n"
     ]
    }
   ],
   "source": [
    "print(\"X_train :\" , X_train.shape , \" X_test :\", X_test.shape)"
   ]
  },
  {
   "cell_type": "code",
   "execution_count": 9,
   "metadata": {},
   "outputs": [
    {
     "data": {
      "text/plain": [
       "tumoral    302\n",
       "normal     301\n",
       "Name: tissue_status, dtype: int64"
      ]
     },
     "execution_count": 9,
     "metadata": {},
     "output_type": "execute_result"
    }
   ],
   "source": [
    "y_train.value_counts()"
   ]
  },
  {
   "cell_type": "markdown",
   "metadata": {},
   "source": [
    "## Création, entraînement et visualisation d'un arbre de décision"
   ]
  },
  {
   "cell_type": "code",
   "execution_count": 10,
   "metadata": {},
   "outputs": [
    {
     "name": "stdout",
     "output_type": "stream",
     "text": [
      "Train accuracy: 1.000 Test accuracy: 0.975\n"
     ]
    }
   ],
   "source": [
    "# Création du classifier (arbre de décision) et appel de la fonction 'calculate_accuracy'\n",
    "\n",
    "classifier = DecisionTreeClassifier(max_depth =2, random_state = random_state, criterion = 'entropy')\n",
    "acuracy_train , accuracy_test, trained_classifier = calculate_accuracy(classifier, X_train, X_test, y_train, y_test)"
   ]
  },
  {
   "cell_type": "code",
   "execution_count": 11,
   "metadata": {},
   "outputs": [
    {
     "data": {
      "image/png": "[encoded data removed]",
      "text/plain": [
       "<Figure size 720x720 with 1 Axes>"
      ]
     },
     "metadata": {
      "needs_background": "light"
     },
     "output_type": "display_data"
    }
   ],
   "source": [
    "# Représentation graphique d'un arbre de décision de profondeur 2 branches\n",
    "\n",
    "plt.figure(figsize = (10,10))\n",
    "plot_tree(classifier,feature_names = list(X_train.columns), class_names = Y.unique(), precision = 2, filled = True)\n",
    "plt.show()"
   ]
  },
  {
   "cell_type": "markdown",
   "metadata": {},
   "source": [
    "### Interprétation\n",
    ">La variable 'UGP2' est la variable la plus discriminante elle separe le jeu de données en 2 parties presque égale 301 et 302 et ne fait que 11 erreurs, d'un coté 2 et 9 de l'autre, c'est une dichotomie presque parfaite.      \n",
    "Les 2 autres varibles permettent simplement de gérer les 11 erreurs de classement initial"
   ]
  },
  {
   "cell_type": "markdown",
   "metadata": {},
   "source": [
    "### Calcul de matrice de confusion"
   ]
  },
  {
   "cell_type": "code",
   "execution_count": 12,
   "metadata": {},
   "outputs": [
    {
     "data": {
      "text/plain": [
       "<sklearn.metrics._plot.confusion_matrix.ConfusionMatrixDisplay at 0x1bbb9df7d60>"
      ]
     },
     "execution_count": 12,
     "metadata": {},
     "output_type": "execute_result"
    },
    {
     "data": {
      "image/png": "[encoded data removed]",
      "text/plain": [
       "<Figure size 432x288 with 2 Axes>"
      ]
     },
     "metadata": {
      "needs_background": "light"
     },
     "output_type": "display_data"
    }
   ],
   "source": [
    "metrics.plot_confusion_matrix(trained_classifier, X_test, y_test)"
   ]
  },
  {
   "cell_type": "markdown",
   "metadata": {},
   "source": [
    "## Création d'un modèle de Random Forest avec 20 arbres"
   ]
  },
  {
   "cell_type": "markdown",
   "metadata": {},
   "source": [
    "> La méthode de Random Forest crée une série d'arbre de décision (une forêt). Chaque arbre prend en compte une partie de features tirés au hasard.      \n",
    "Le résultat final est établie par un vote entre tous les arbres (la majorité gagne).    \n",
    "Pour entraîner un modèle de Random Forest, On utilise la lasse **RandomForestClassifier** de scikit-learn.     \n",
    "La profondeur de chaque arbre est définie par l'option *max_depth*. Le nombre d'arbresdans la forêt est controlé par l'option *n_estimators*."
   ]
  },
  {
   "cell_type": "code",
   "execution_count": 13,
   "metadata": {},
   "outputs": [
    {
     "name": "stdout",
     "output_type": "stream",
     "text": [
      "Train accuracy: 0.998 Test accuracy: 0.995\n"
     ]
    }
   ],
   "source": [
    "# # Création du classifier (Random forest) et appel de la fonction 'calculate_accuracy'\n",
    "\n",
    "classifier = RandomForestClassifier (max_depth = 2, random_state = random_state, criterion = 'entropy',n_estimators = 20)\n",
    "accuracy_train , accuracy_test, trained_classifier = calculate_accuracy(classifier, X_train, X_test, y_train, y_test)"
   ]
  },
  {
   "cell_type": "markdown",
   "metadata": {},
   "source": [
    "#### Matrice de confusion"
   ]
  },
  {
   "cell_type": "code",
   "execution_count": 14,
   "metadata": {},
   "outputs": [
    {
     "data": {
      "text/plain": [
       "<sklearn.metrics._plot.confusion_matrix.ConfusionMatrixDisplay at 0x1bbba1c7f40>"
      ]
     },
     "execution_count": 14,
     "metadata": {},
     "output_type": "execute_result"
    },
    {
     "data": {
      "image/png": "[encoded data removed]",
      "text/plain": [
       "<Figure size 432x288 with 2 Axes>"
      ]
     },
     "metadata": {
      "needs_background": "light"
     },
     "output_type": "display_data"
    }
   ],
   "source": [
    "# Affichage de la matrice de confusion\n",
    "metrics.plot_confusion_matrix(trained_classifier, X_test, y_test)"
   ]
  },
  {
   "cell_type": "markdown",
   "metadata": {},
   "source": [
    "****\n",
    "#### Conclusion\n",
    ">Les 2 methodes donnent des résultats différents, l'arbre de décision est instable et produit du suraprentissage, ca ne se voit pas trop dans cette exercice car les données ont été préparé.\n",
    "La forêt aléatoire produit moins de surapprentissage, donnent des résultats plus stable et de meilleur qualité, ceci est une vérité générale, c'etait le but de ce TD.\n",
    "*****"
   ]
  },
  {
   "cell_type": "markdown",
   "metadata": {},
   "source": [
    "## Les autres métriques  "
   ]
  },
  {
   "cell_type": "code",
   "execution_count": 15,
   "metadata": {},
   "outputs": [
    {
     "data": {
      "image/png": "[encoded data removed]",
      "text/plain": [
       "<Figure size 432x288 with 1 Axes>"
      ]
     },
     "metadata": {
      "needs_background": "light"
     },
     "output_type": "display_data"
    }
   ],
   "source": [
    "# La courbe ROC\n",
    "\n",
    "metrics.plot_roc_curve(estimator=trained_classifier, X=X_test, y=y_test)  \n",
    "\n",
    "# Construire la diagonale de référence\n",
    "plt.plot(np.arange(0,1.1,0.1),np.arange(0,1.1,0.1),'r')\n",
    "\n",
    "plt.title(\"Courbe ROC\")\n",
    "plt.show()"
   ]
  },
  {
   "cell_type": "code",
   "execution_count": 16,
   "metadata": {},
   "outputs": [
    {
     "name": "stdout",
     "output_type": "stream",
     "text": [
      "              precision    recall  f1-score   support\n",
      "\n",
      "      normal       1.00      0.99      1.00       101\n",
      "     tumoral       0.99      1.00      1.00       100\n",
      "\n",
      "    accuracy                           1.00       201\n",
      "   macro avg       1.00      1.00      1.00       201\n",
      "weighted avg       1.00      1.00      1.00       201\n",
      "\n"
     ]
    }
   ],
   "source": [
    "y_predict_test = classifier.predict(X_test)\n",
    "report = metrics.classification_report(y_true = y_test , y_pred = y_predict_test,target_names = Y.unique())\n",
    "print(report)"
   ]
  },
  {
   "cell_type": "markdown",
   "metadata": {},
   "source": [
    "#### Ref *plot_tree* : \n",
    "https://scikit-learn.org/stable/modules/generated/sklearn.tree.plot_tree.html?highlight=decision_tree\n",
    "\n",
    "#### Ref *fit method* :\n",
    "https://scikit-learn.org/stable/developers/develop.html#:~:text=The%20fit()%20method%20takes,reference%20to%20X%20and%20y%20.\n",
    "\n",
    "#### Ref *RandomRorestClassifier* :\n",
    "https://scikit-learn.org/stable/modules/generated/sklearn.ensemble.RandomForestClassifier.html?highlight=random%20forest#sklearn.ensemble.RandomForestClassifier.apply\n",
    "\n",
    "#### Ref *métrique de précision* :\n",
    "https://scikit-learn.org/stable/modules/model_evaluation.html#classification-metrics       \n",
    "https://scikit-learn.org/stable/search.html?q=metrics.plot\n",
    "\n",
    "#### Ref *accuracy_score* :\n",
    "https://scikit-learn.org/stable/modules/generated/sklearn.metrics.accuracy_score.html?highlight=metrics%20accuracy_score"
   ]
  }
 ],
 "metadata": {
  "kernelspec": {
   "display_name": "Python 3",
   "language": "python",
   "name": "python3"
  },
  "language_info": {
   "codemirror_mode": {
    "name": "ipython",
    "version": 3
   },
   "file_extension": ".py",
   "mimetype": "text/x-python",
   "name": "python",
   "nbconvert_exporter": "python",
   "pygments_lexer": "ipython3",
   "version": "3.8.5"
  }
 },
 "nbformat": 4,
 "nbformat_minor": 4
}
